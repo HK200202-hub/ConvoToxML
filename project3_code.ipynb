{
 "cells": [
  {
   "cell_type": "code",
   "execution_count": null,
   "id": "2276c7c3-c260-4cba-9314-43c91645be57",
   "metadata": {},
   "outputs": [],
   "source": [
    "import pandas as pd\n",
    "import numpy as np\n",
    "import statsmodels.api as sm\n",
    "import statsmodels.formula.api as smf\n",
    "import matplotlib.pyplot as plt\n",
    "import seaborn as sns\n",
    "from sklearn.model_selection import train_test_split, cross_val_score, cross_validate, StratifiedKFold\n",
    "from sklearn.linear_model import LogisticRegression\n",
    "from sklearn.ensemble import RandomForestClassifier\n",
    "from sklearn.svm import SVC\n",
    "from sklearn.metrics import f1_score, accuracy_score, make_scorer\n",
    "file_path = r\"C:\\Users\\hari2\\Downloads\\project_dada_39127597.csv\"\n",
    "df = pd.read_csv(file_path, encoding='ISO-8859-1')\n",
    "df.head()"
   ]
  },
  {
   "cell_type": "code",
   "execution_count": null,
   "id": "8bac30f0-6c17-4274-982b-e0b457f5e1d0",
   "metadata": {},
   "outputs": [],
   "source": [
    "df= df.drop(columns=[\"ï»¿\"], axis = 0)"
   ]
  },
  {
   "cell_type": "code",
   "execution_count": null,
   "id": "709d49b8-2074-4d85-8aaa-634a22fda446",
   "metadata": {},
   "outputs": [],
   "source": [
    "df.head()"
   ]
  },
  {
   "cell_type": "code",
   "execution_count": null,
   "id": "cf0c86d2-0f26-4a95-9ac9-368706effd16",
   "metadata": {},
   "outputs": [],
   "source": [
    "df.dropna(inplace= True)\n",
    "df.drop_duplicates(inplace =True)"
   ]
  },
  {
   "cell_type": "code",
   "execution_count": null,
   "id": "1ed72077-aa65-46a5-978a-c6ecd0686978",
   "metadata": {},
   "outputs": [],
   "source": [
    "df.head()"
   ]
  },
  {
   "cell_type": "code",
   "execution_count": null,
   "id": "42aaaf16-e042-43c8-ba25-55c5c9154f4b",
   "metadata": {},
   "outputs": [],
   "source": [
    "df.duplicated().sum() "
   ]
  },
  {
   "cell_type": "code",
   "execution_count": null,
   "id": "d4e8d76d-44f3-47ad-9004-c66ca88ed9d7",
   "metadata": {},
   "outputs": [],
   "source": [
    "df['Total_toxic_replies'] = df['Num_toxic_direct_replies'] + df['Num_toxic_nested_replies']\n",
    "df['Toxic_conversation'] = (df['Total_toxic_replies'] > 0).astype(int)"
   ]
  },
  {
   "cell_type": "code",
   "execution_count": null,
   "id": "e9312f05-35a9-4a39-91d7-507f7150642d",
   "metadata": {},
   "outputs": [],
   "source": [
    "features = ['Length', 'Num_users', 'TOXICITY_x', 'Num_author_replies', 'Verified', 'Age'] \n",
    "X= df[features]\n",
    "y= df['Toxic_conversation']\n",
    "X_train,X_test,y_train,Y_test= train_test_split(X,y,test_size= 0.2,random_state=42, stratify=y)\n",
    "\n",
    "cv = StratifiedKFold(n_splits=5, shuffle=True, random_state=42)\n",
    "scoring = {'f1': make_scorer(f1_score), 'accuracy': make_scorer(accuracy_score)}\n",
    "\n",
    "models = {\n",
    "    \"Logistic Regression\" :LogisticRegression(max_iter =1000),\n",
    "    \"SVM\" : SVC(kernel = 'linear'),\n",
    "    \"Random Forest\": RandomForestClassifier(random_state=42)\n",
    "}\n",
    "\n",
    "results ={}\n",
    "\n",
    "for name,models in  models.items():\n",
    "    cv_result=cross_validate(models,X_train,y_train,cv=cv,scoring=scoring)\n",
    "    f1 =np.mean(cv_result['test_f1'])\n",
    "    acc = np.mean(cv_result['test_accuracy'])\n",
    "    results[name]={\"F1\":f1 ,\"Accuracy\":acc}\n",
    "    print( f\"{name} -> F1:{f1:.4f} , Accuracy:{acc: .4f}\")\n",
    "\n",
    "best_model = models[best_model_name]\n",
    "best_model.fit(X_train, y_train)\n",
    "y_pred = best_model.predict(X_test)\n",
    "\n",
    "print(\"F1 Score:\", f1_score(y_test, y_pred))\n",
    "print(\"Accuracy:\", accuracy_score(y_test, y_pred))\n",
    "\n",
    "\n",
    "    \n"
   ]
  },
  {
   "cell_type": "code",
   "execution_count": null,
   "id": "9354718a-513c-426c-be69-bd5dcefe3dc9",
   "metadata": {},
   "outputs": [],
   "source": [
    "best_model= models[best_model_name]\n",
    "best_model.fit(X_train,y_train)\n",
    "y_pred=best_model.predict(X_test)\n",
    "print(\"F1Score:\", f1_score(y_test,y_pred)\n",
    "print(\"Accurcy: \", acc_score(y_test,y_pred)"
   ]
  },
  {
   "cell_type": "code",
   "execution_count": null,
   "id": "793400bb-91d1-4fff-a9ee-247cd2e643eb",
   "metadata": {},
   "outputs": [],
   "source": []
  }
 ],
 "metadata": {
  "kernelspec": {
   "display_name": "Python 3 (ipykernel)",
   "language": "python",
   "name": "python3"
  },
  "language_info": {
   "codemirror_mode": {
    "name": "ipython",
    "version": 3
   },
   "file_extension": ".py",
   "mimetype": "text/x-python",
   "name": "python",
   "nbconvert_exporter": "python",
   "pygments_lexer": "ipython3",
   "version": "3.11.7"
  }
 },
 "nbformat": 4,
 "nbformat_minor": 5
}
