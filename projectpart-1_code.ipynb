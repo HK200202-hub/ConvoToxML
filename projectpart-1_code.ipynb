{
 "cells": [
  {
   "cell_type": "code",
   "execution_count": 64,
   "id": "413ac34e-7f76-4cb1-817f-dc62ec2d41ef",
   "metadata": {},
   "outputs": [
    {
     "data": {
      "text/html": [
       "<div>\n",
       "<style scoped>\n",
       "    .dataframe tbody tr th:only-of-type {\n",
       "        vertical-align: middle;\n",
       "    }\n",
       "\n",
       "    .dataframe tbody tr th {\n",
       "        vertical-align: top;\n",
       "    }\n",
       "\n",
       "    .dataframe thead th {\n",
       "        text-align: right;\n",
       "    }\n",
       "</style>\n",
       "<table border=\"1\" class=\"dataframe\">\n",
       "  <thead>\n",
       "    <tr style=\"text-align: right;\">\n",
       "      <th></th>\n",
       "      <th>ï»¿</th>\n",
       "      <th>Tweet</th>\n",
       "      <th>Followers</th>\n",
       "      <th>Friends</th>\n",
       "      <th>Num_tweets</th>\n",
       "      <th>Verified</th>\n",
       "      <th>Listed_count</th>\n",
       "      <th>Location</th>\n",
       "      <th>Age</th>\n",
       "      <th>Length</th>\n",
       "      <th>Num_users</th>\n",
       "      <th>Num_author_replies</th>\n",
       "      <th>TOXICITY_x</th>\n",
       "      <th>Num_toxic_direct_replies</th>\n",
       "      <th>Num_toxic_nested_replies</th>\n",
       "      <th>Num_author_toxic_replies</th>\n",
       "      <th>Num_toxic_replies</th>\n",
       "      <th>Toxic</th>\n",
       "    </tr>\n",
       "  </thead>\n",
       "  <tbody>\n",
       "    <tr>\n",
       "      <th>0</th>\n",
       "      <td>0</td>\n",
       "      <td>1.441500e+18</td>\n",
       "      <td>1198</td>\n",
       "      <td>605.0</td>\n",
       "      <td>6166</td>\n",
       "      <td>False</td>\n",
       "      <td>1</td>\n",
       "      <td>True</td>\n",
       "      <td>7</td>\n",
       "      <td>6</td>\n",
       "      <td>4</td>\n",
       "      <td>2</td>\n",
       "      <td>0.235235</td>\n",
       "      <td>0</td>\n",
       "      <td>0</td>\n",
       "      <td>0</td>\n",
       "      <td>0</td>\n",
       "      <td>0</td>\n",
       "    </tr>\n",
       "    <tr>\n",
       "      <th>1</th>\n",
       "      <td>1</td>\n",
       "      <td>1.431810e+18</td>\n",
       "      <td>608</td>\n",
       "      <td>1259.0</td>\n",
       "      <td>1811</td>\n",
       "      <td>False</td>\n",
       "      <td>5</td>\n",
       "      <td>True</td>\n",
       "      <td>2</td>\n",
       "      <td>2</td>\n",
       "      <td>2</td>\n",
       "      <td>0</td>\n",
       "      <td>0.085582</td>\n",
       "      <td>0</td>\n",
       "      <td>0</td>\n",
       "      <td>0</td>\n",
       "      <td>0</td>\n",
       "      <td>0</td>\n",
       "    </tr>\n",
       "    <tr>\n",
       "      <th>2</th>\n",
       "      <td>2</td>\n",
       "      <td>1.426640e+18</td>\n",
       "      <td>173</td>\n",
       "      <td>167.0</td>\n",
       "      <td>4306</td>\n",
       "      <td>False</td>\n",
       "      <td>0</td>\n",
       "      <td>True</td>\n",
       "      <td>0</td>\n",
       "      <td>4</td>\n",
       "      <td>2</td>\n",
       "      <td>2</td>\n",
       "      <td>0.076877</td>\n",
       "      <td>0</td>\n",
       "      <td>0</td>\n",
       "      <td>0</td>\n",
       "      <td>0</td>\n",
       "      <td>0</td>\n",
       "    </tr>\n",
       "    <tr>\n",
       "      <th>3</th>\n",
       "      <td>3</td>\n",
       "      <td>1.431810e+18</td>\n",
       "      <td>2540</td>\n",
       "      <td>222.0</td>\n",
       "      <td>6008</td>\n",
       "      <td>False</td>\n",
       "      <td>0</td>\n",
       "      <td>True</td>\n",
       "      <td>9</td>\n",
       "      <td>2</td>\n",
       "      <td>2</td>\n",
       "      <td>0</td>\n",
       "      <td>0.095684</td>\n",
       "      <td>0</td>\n",
       "      <td>0</td>\n",
       "      <td>0</td>\n",
       "      <td>0</td>\n",
       "      <td>0</td>\n",
       "    </tr>\n",
       "    <tr>\n",
       "      <th>4</th>\n",
       "      <td>4</td>\n",
       "      <td>1.432860e+18</td>\n",
       "      <td>4439</td>\n",
       "      <td>11.0</td>\n",
       "      <td>9985</td>\n",
       "      <td>False</td>\n",
       "      <td>55</td>\n",
       "      <td>True</td>\n",
       "      <td>2</td>\n",
       "      <td>4</td>\n",
       "      <td>3</td>\n",
       "      <td>1</td>\n",
       "      <td>0.165919</td>\n",
       "      <td>0</td>\n",
       "      <td>0</td>\n",
       "      <td>0</td>\n",
       "      <td>0</td>\n",
       "      <td>0</td>\n",
       "    </tr>\n",
       "  </tbody>\n",
       "</table>\n",
       "</div>"
      ],
      "text/plain": [
       "   ï»¿         Tweet  Followers  Friends  Num_tweets  Verified  Listed_count  \\\n",
       "0    0  1.441500e+18       1198    605.0        6166     False             1   \n",
       "1    1  1.431810e+18        608   1259.0        1811     False             5   \n",
       "2    2  1.426640e+18        173    167.0        4306     False             0   \n",
       "3    3  1.431810e+18       2540    222.0        6008     False             0   \n",
       "4    4  1.432860e+18       4439     11.0        9985     False            55   \n",
       "\n",
       "  Location  Age  Length  Num_users  Num_author_replies  TOXICITY_x  \\\n",
       "0     True    7       6          4                   2    0.235235   \n",
       "1     True    2       2          2                   0    0.085582   \n",
       "2     True    0       4          2                   2    0.076877   \n",
       "3     True    9       2          2                   0    0.095684   \n",
       "4     True    2       4          3                   1    0.165919   \n",
       "\n",
       "   Num_toxic_direct_replies  Num_toxic_nested_replies  \\\n",
       "0                         0                         0   \n",
       "1                         0                         0   \n",
       "2                         0                         0   \n",
       "3                         0                         0   \n",
       "4                         0                         0   \n",
       "\n",
       "   Num_author_toxic_replies  Num_toxic_replies  Toxic  \n",
       "0                         0                  0      0  \n",
       "1                         0                  0      0  \n",
       "2                         0                  0      0  \n",
       "3                         0                  0      0  \n",
       "4                         0                  0      0  "
      ]
     },
     "execution_count": 64,
     "metadata": {},
     "output_type": "execute_result"
    }
   ],
   "source": [
    "import pandas as pd\n",
    "\n",
    "# Correct file path and encoding fix\n",
    "file_path = r\"C:\\Users\\hari2\\Downloads\\project_dada_39127597.csv\"\n",
    "df = pd.read_csv(file_path, encoding='ISO-8859-1')\n",
    "\n",
    "# View the first few rows\n",
    "df.head()\n",
    "\n",
    "    "
   ]
  },
  {
   "cell_type": "code",
   "execution_count": 33,
   "id": "b74db809-ffbb-4744-9f26-3ca2d610cbcf",
   "metadata": {},
   "outputs": [
    {
     "name": "stdout",
     "output_type": "stream",
     "text": [
      "Index(['ï»¿', 'Tweet', 'Followers', 'Friends', 'Num_tweets', 'Verified',\n",
      "       'Listed_count', 'Location', 'Age', 'Length', 'Num_users',\n",
      "       'Num_author_replies', 'TOXICITY_x', 'Num_toxic_direct_replies',\n",
      "       'Num_toxic_nested_replies', 'Num_author_toxic_replies',\n",
      "       'Num_toxic_replies', 'Toxic'],\n",
      "      dtype='object')\n"
     ]
    }
   ],
   "source": [
    "print(df.columns)"
   ]
  },
  {
   "cell_type": "code",
   "execution_count": 66,
   "id": "7b5ad2ec-c80a-4f58-affe-74dbb58e6950",
   "metadata": {},
   "outputs": [
    {
     "data": {
      "text/html": [
       "<div>\n",
       "<style scoped>\n",
       "    .dataframe tbody tr th:only-of-type {\n",
       "        vertical-align: middle;\n",
       "    }\n",
       "\n",
       "    .dataframe tbody tr th {\n",
       "        vertical-align: top;\n",
       "    }\n",
       "\n",
       "    .dataframe thead th {\n",
       "        text-align: right;\n",
       "    }\n",
       "</style>\n",
       "<table border=\"1\" class=\"dataframe\">\n",
       "  <thead>\n",
       "    <tr style=\"text-align: right;\">\n",
       "      <th></th>\n",
       "      <th>Tweet</th>\n",
       "      <th>Followers</th>\n",
       "      <th>Friends</th>\n",
       "      <th>Num_tweets</th>\n",
       "      <th>Verified</th>\n",
       "      <th>Listed_count</th>\n",
       "      <th>Location</th>\n",
       "      <th>Age</th>\n",
       "      <th>Length</th>\n",
       "      <th>Num_users</th>\n",
       "      <th>Num_author_replies</th>\n",
       "      <th>TOXICITY_x</th>\n",
       "      <th>Num_toxic_direct_replies</th>\n",
       "      <th>Num_toxic_nested_replies</th>\n",
       "      <th>Num_author_toxic_replies</th>\n",
       "      <th>Num_toxic_replies</th>\n",
       "      <th>Toxic</th>\n",
       "    </tr>\n",
       "  </thead>\n",
       "  <tbody>\n",
       "    <tr>\n",
       "      <th>0</th>\n",
       "      <td>1.441500e+18</td>\n",
       "      <td>1198</td>\n",
       "      <td>605.0</td>\n",
       "      <td>6166</td>\n",
       "      <td>False</td>\n",
       "      <td>1</td>\n",
       "      <td>True</td>\n",
       "      <td>7</td>\n",
       "      <td>6</td>\n",
       "      <td>4</td>\n",
       "      <td>2</td>\n",
       "      <td>0.235235</td>\n",
       "      <td>0</td>\n",
       "      <td>0</td>\n",
       "      <td>0</td>\n",
       "      <td>0</td>\n",
       "      <td>0</td>\n",
       "    </tr>\n",
       "    <tr>\n",
       "      <th>1</th>\n",
       "      <td>1.431810e+18</td>\n",
       "      <td>608</td>\n",
       "      <td>1259.0</td>\n",
       "      <td>1811</td>\n",
       "      <td>False</td>\n",
       "      <td>5</td>\n",
       "      <td>True</td>\n",
       "      <td>2</td>\n",
       "      <td>2</td>\n",
       "      <td>2</td>\n",
       "      <td>0</td>\n",
       "      <td>0.085582</td>\n",
       "      <td>0</td>\n",
       "      <td>0</td>\n",
       "      <td>0</td>\n",
       "      <td>0</td>\n",
       "      <td>0</td>\n",
       "    </tr>\n",
       "    <tr>\n",
       "      <th>2</th>\n",
       "      <td>1.426640e+18</td>\n",
       "      <td>173</td>\n",
       "      <td>167.0</td>\n",
       "      <td>4306</td>\n",
       "      <td>False</td>\n",
       "      <td>0</td>\n",
       "      <td>True</td>\n",
       "      <td>0</td>\n",
       "      <td>4</td>\n",
       "      <td>2</td>\n",
       "      <td>2</td>\n",
       "      <td>0.076877</td>\n",
       "      <td>0</td>\n",
       "      <td>0</td>\n",
       "      <td>0</td>\n",
       "      <td>0</td>\n",
       "      <td>0</td>\n",
       "    </tr>\n",
       "    <tr>\n",
       "      <th>3</th>\n",
       "      <td>1.431810e+18</td>\n",
       "      <td>2540</td>\n",
       "      <td>222.0</td>\n",
       "      <td>6008</td>\n",
       "      <td>False</td>\n",
       "      <td>0</td>\n",
       "      <td>True</td>\n",
       "      <td>9</td>\n",
       "      <td>2</td>\n",
       "      <td>2</td>\n",
       "      <td>0</td>\n",
       "      <td>0.095684</td>\n",
       "      <td>0</td>\n",
       "      <td>0</td>\n",
       "      <td>0</td>\n",
       "      <td>0</td>\n",
       "      <td>0</td>\n",
       "    </tr>\n",
       "    <tr>\n",
       "      <th>4</th>\n",
       "      <td>1.432860e+18</td>\n",
       "      <td>4439</td>\n",
       "      <td>11.0</td>\n",
       "      <td>9985</td>\n",
       "      <td>False</td>\n",
       "      <td>55</td>\n",
       "      <td>True</td>\n",
       "      <td>2</td>\n",
       "      <td>4</td>\n",
       "      <td>3</td>\n",
       "      <td>1</td>\n",
       "      <td>0.165919</td>\n",
       "      <td>0</td>\n",
       "      <td>0</td>\n",
       "      <td>0</td>\n",
       "      <td>0</td>\n",
       "      <td>0</td>\n",
       "    </tr>\n",
       "  </tbody>\n",
       "</table>\n",
       "</div>"
      ],
      "text/plain": [
       "          Tweet  Followers  Friends  Num_tweets  Verified  Listed_count  \\\n",
       "0  1.441500e+18       1198    605.0        6166     False             1   \n",
       "1  1.431810e+18        608   1259.0        1811     False             5   \n",
       "2  1.426640e+18        173    167.0        4306     False             0   \n",
       "3  1.431810e+18       2540    222.0        6008     False             0   \n",
       "4  1.432860e+18       4439     11.0        9985     False            55   \n",
       "\n",
       "  Location  Age  Length  Num_users  Num_author_replies  TOXICITY_x  \\\n",
       "0     True    7       6          4                   2    0.235235   \n",
       "1     True    2       2          2                   0    0.085582   \n",
       "2     True    0       4          2                   2    0.076877   \n",
       "3     True    9       2          2                   0    0.095684   \n",
       "4     True    2       4          3                   1    0.165919   \n",
       "\n",
       "   Num_toxic_direct_replies  Num_toxic_nested_replies  \\\n",
       "0                         0                         0   \n",
       "1                         0                         0   \n",
       "2                         0                         0   \n",
       "3                         0                         0   \n",
       "4                         0                         0   \n",
       "\n",
       "   Num_author_toxic_replies  Num_toxic_replies  Toxic  \n",
       "0                         0                  0      0  \n",
       "1                         0                  0      0  \n",
       "2                         0                  0      0  \n",
       "3                         0                  0      0  \n",
       "4                         0                  0      0  "
      ]
     },
     "execution_count": 66,
     "metadata": {},
     "output_type": "execute_result"
    }
   ],
   "source": [
    "df = df.drop(columns='ï»¿')\n",
    "df.head()\n"
   ]
  },
  {
   "cell_type": "code",
   "execution_count": 81,
   "id": "6e493b63-f3cd-4de1-982a-faa363c93405",
   "metadata": {},
   "outputs": [
    {
     "name": "stdout",
     "output_type": "stream",
     "text": [
      "Shape: (28823, 17)\n"
     ]
    }
   ],
   "source": [
    "print(\"Shape:\", df.shape)"
   ]
  },
  {
   "cell_type": "markdown",
   "id": "be3c0215-a440-40b0-a61a-7a9ef2f1d344",
   "metadata": {},
   "source": [
    "Interpretation: This dataset consists of 28823 rows and 17 columns.\n"
   ]
  },
  {
   "cell_type": "code",
   "execution_count": 37,
   "id": "98c205bd-bb0a-4e4f-ab85-305f8f9f9285",
   "metadata": {},
   "outputs": [
    {
     "name": "stdout",
     "output_type": "stream",
     "text": [
      "Tweet                       float64\n",
      "Followers                     int64\n",
      "Friends                     float64\n",
      "Num_tweets                    int64\n",
      "Verified                       bool\n",
      "Listed_count                  int64\n",
      "Location                     object\n",
      "Age                           int64\n",
      "Length                        int64\n",
      "Num_users                     int64\n",
      "Num_author_replies            int64\n",
      "TOXICITY_x                  float64\n",
      "Num_toxic_direct_replies      int64\n",
      "Num_toxic_nested_replies      int64\n",
      "Num_author_toxic_replies      int64\n",
      "Num_toxic_replies             int64\n",
      "Toxic                         int64\n",
      "dtype: object\n"
     ]
    }
   ],
   "source": [
    "print(df.dtypes)"
   ]
  },
  {
   "cell_type": "markdown",
   "id": "d6a28469-252b-4d34-b7f5-88cb320a54e9",
   "metadata": {},
   "source": [
    "Tweet                       float64,\n",
    "Followers                     int64\n",
    "Friends                     float64\n",
    "Num_tweets                    int64\n",
    "Verified                       bool\n",
    "Listed_count                  int64\n",
    "Location                     object\n",
    "Age                           int64\n",
    "Length                        int64\n",
    "Num_users                     int64\n",
    "Num_author_replies            int64\n",
    "TOXICITY_x                  float64\n",
    "Num_toxic_direct_replies      int64\n",
    "Num_toxic_nested_replies      int64\n",
    "Num_author_toxic_replies      int64\n",
    "Num_toxic_replies             int64\n",
    "Toxic                         int64\n",
    "dtype: object\n"
   ]
  },
  {
   "cell_type": "code",
   "execution_count": 7,
   "id": "2d2cf51a-d1f1-4a7d-b9f8-efee66943781",
   "metadata": {},
   "outputs": [
    {
     "name": "stdout",
     "output_type": "stream",
     "text": [
      "New shape after dropping NA: (28821, 17)\n"
     ]
    }
   ],
   "source": [
    "# Step 4: Remove the rows containing missing values\n",
    "df_cleaned = df.dropna()\n",
    "print(\"New shape after dropping NA:\", df_cleaned.shape)"
   ]
  },
  {
   "cell_type": "markdown",
   "id": "cf965423-9517-4c49-a941-82dfce6e09f2",
   "metadata": {},
   "source": [
    "Interpretation: 2 rows were removed due to missing values.\n"
   ]
  },
  {
   "cell_type": "code",
   "execution_count": 38,
   "id": "d228aac7-a842-4139-a76a-1a0536434672",
   "metadata": {},
   "outputs": [
    {
     "name": "stdout",
     "output_type": "stream",
     "text": [
      "New shape after dropping duplicates: (28818, 19)\n"
     ]
    }
   ],
   "source": [
    "# Step 5: Remove duplicate rows\n",
    "df_cleaned = df_cleaned.drop_duplicates()\n",
    "print(\"New shape after dropping duplicates:\", df_cleaned.shape)"
   ]
  },
  {
   "cell_type": "markdown",
   "id": "b3d1982a-bb04-4c01-be9b-f1a2ab00bd5b",
   "metadata": {},
   "source": [
    "Interpretation: 3 duplicate rows were removed.\n"
   ]
  },
  {
   "cell_type": "code",
   "execution_count": 39,
   "id": "564b09bc-37a5-46a7-b74e-d1fc1c1545dd",
   "metadata": {},
   "outputs": [],
   "source": [
    "df_cleaned.rename(columns={\"TOXICITY_x\": \"Toxicity\"}, inplace=True)\n",
    "\n",
    "# Now apply the transformation\n",
    "df_cleaned[\"Toxicity\"] = df_cleaned[\"Toxicity\"].apply(lambda x: 1 if x >= 0.5 else 0)\n"
   ]
  },
  {
   "cell_type": "code",
   "execution_count": 40,
   "id": "f490bafd-80e5-4419-b51c-3beeffb78b74",
   "metadata": {},
   "outputs": [
    {
     "name": "stdout",
     "output_type": "stream",
     "text": [
      "Toxicity\n",
      "0    25812\n",
      "1     3006\n",
      "Name: count, dtype: int64\n"
     ]
    }
   ],
   "source": [
    "print(df_cleaned[\"Toxicity\"].value_counts())\n"
   ]
  },
  {
   "cell_type": "code",
   "execution_count": 41,
   "id": "92901cc9-3343-487a-b8a8-9546d811ade9",
   "metadata": {},
   "outputs": [],
   "source": [
    "# Step 7: Create Total_toxic_replies column\n",
    "df_cleaned[\"Total_toxic_replies\"] = df_cleaned[\"Num_toxic_direct_replies\"] + df_cleaned[\"Num_toxic_nested_replies\"]"
   ]
  },
  {
   "cell_type": "code",
   "execution_count": 42,
   "id": "8d57f6b8-ee82-4edd-9535-fc367a9af4dd",
   "metadata": {},
   "outputs": [
    {
     "name": "stdout",
     "output_type": "stream",
     "text": [
      "<bound method NDFrame.describe of 0         0\n",
      "1         0\n",
      "2         0\n",
      "3         0\n",
      "4         0\n",
      "         ..\n",
      "28818     0\n",
      "28819    10\n",
      "28820     2\n",
      "28821     0\n",
      "28822     0\n",
      "Name: Total_toxic_replies, Length: 28818, dtype: int64>\n"
     ]
    }
   ],
   "source": [
    "print(df_cleaned[\"Total_toxic_replies\"].describe)"
   ]
  },
  {
   "cell_type": "code",
   "execution_count": 43,
   "id": "8be00a6e-2399-4a30-b807-97cf3571be0d",
   "metadata": {},
   "outputs": [],
   "source": [
    "# Step 8: Create Toxic_conversation column\n",
    "df_cleaned[\"Toxic_conversation\"] = df_cleaned[\"Total_toxic_replies\"].apply(lambda x: 1 if x > 0 else 0)"
   ]
  },
  {
   "cell_type": "code",
   "execution_count": 44,
   "id": "73fab7da-a765-423d-b0e0-3238b7444a3f",
   "metadata": {},
   "outputs": [
    {
     "name": "stdout",
     "output_type": "stream",
     "text": [
      "<bound method NDFrame.describe of 0        0\n",
      "1        0\n",
      "2        0\n",
      "3        0\n",
      "4        0\n",
      "        ..\n",
      "28818    0\n",
      "28819    1\n",
      "28820    1\n",
      "28821    0\n",
      "28822    0\n",
      "Name: Toxic_conversation, Length: 28818, dtype: int64>\n"
     ]
    }
   ],
   "source": [
    "print(df_cleaned[\"Toxic_conversation\"].describe) #step9 "
   ]
  },
  {
   "cell_type": "code",
   "execution_count": 45,
   "id": "86e8f53d-0707-41ee-9940-ad962d805eb5",
   "metadata": {},
   "outputs": [
    {
     "name": "stdout",
     "output_type": "stream",
     "text": [
      "count    28818.000000\n",
      "mean         5.664064\n",
      "std         20.054350\n",
      "min          1.000000\n",
      "25%          2.000000\n",
      "50%          2.000000\n",
      "75%          4.000000\n",
      "max        925.000000\n",
      "Name: Num_users, dtype: float64\n"
     ]
    }
   ],
   "source": [
    "# Discuss mean value and what it might indicate.\n",
    "\n",
    "# Step 10: Get descriptive statistics of number of unique users\n",
    "print(df_cleaned[\"Num_users\"].describe())\n"
   ]
  },
  {
   "cell_type": "markdown",
   "id": "4c7f447a-9855-4527-9437-257044fc691a",
   "metadata": {},
   "source": [
    "Interpretation: The mean conversation length is 5.66. This suggests that on average, each conversation contains 2 tweets."
   ]
  },
  {
   "cell_type": "code",
   "execution_count": 46,
   "id": "0942a908-2e2d-4aeb-9de1-8ec9c5b9fccf",
   "metadata": {},
   "outputs": [
    {
     "data": {
      "image/png": "[encoded data removed]",
      "text/plain": [
       "<Figure size 640x480 with 1 Axes>"
      ]
     },
     "metadata": {},
     "output_type": "display_data"
    },
    {
     "data": {
      "image/png": "[encoded data removed]",
      "text/plain": [
       "<Figure size 640x480 with 1 Axes>"
      ]
     },
     "metadata": {},
     "output_type": "display_data"
    }
   ],
   "source": [
    "import seaborn as sns\n",
    "import matplotlib.pyplot as plt\n",
    "\n",
    "sns.boxplot(x=df_cleaned[\"Length\"])\n",
    "plt.title(\"Boxplot of Conversation Length\")\n",
    "plt.show()\n",
    "\n",
    "sns.boxplot(x=df_cleaned[\"Num_users\"])\n",
    "plt.title(\"Boxplot of Number of Unique Users\")\n",
    "plt.show()\n",
    "\n"
   ]
  },
  {
   "cell_type": "code",
   "execution_count": 47,
   "id": "5604254f-9990-482e-8aed-29f6343eb5c4",
   "metadata": {},
   "outputs": [],
   "source": [
    "import numpy as np\n",
    "df_cleaned.replace([np.inf, -np.inf], np.nan, inplace=True)"
   ]
  },
  {
   "cell_type": "code",
   "execution_count": 48,
   "id": "c2d34ce6-30be-4c80-874a-3174f6a98a4d",
   "metadata": {},
   "outputs": [
    {
     "name": "stderr",
     "output_type": "stream",
     "text": [
      "C:\\Users\\hari2\\anaconda3\\Lib\\site-packages\\seaborn\\_oldcore.py:1119: FutureWarning: use_inf_as_na option is deprecated and will be removed in a future version. Convert inf values to NaN before operating instead.\n",
      "  with pd.option_context('mode.use_inf_as_na', True):\n"
     ]
    },
    {
     "data": {
      "image/png": "[encoded data removed]",
      "text/plain": [
       "<Figure size 640x480 with 1 Axes>"
      ]
     },
     "metadata": {},
     "output_type": "display_data"
    }
   ],
   "source": [
    "\n",
    "# Step 12: Histogram of Total_toxic_replies\n",
    "\n",
    "sns.histplot(df_cleaned[\"Total_toxic_replies\"], bins=30, kde=False)\n",
    "plt.title(\"Histogram of Total Toxic Replies\")\n",
    "plt.show()\n"
   ]
  },
  {
   "cell_type": "markdown",
   "id": "d6823fa5-04fd-4c31-919a-4fa50dc1332b",
   "metadata": {},
   "source": [
    "Interpretation: Most conversations have 0 toxic replies. The distribution is right-skewed with a long tail.\n"
   ]
  },
  {
   "cell_type": "code",
   "execution_count": 49,
   "id": "45900859-a784-4d10-b747-ffa3e4154d56",
   "metadata": {},
   "outputs": [
    {
     "name": "stdout",
     "output_type": "stream",
     "text": [
      "Toxic_conversation\n",
      "0    21613\n",
      "1     7205\n",
      "Name: count, dtype: int64\n"
     ]
    }
   ],
   "source": [
    "# Step 13: Value count for Toxic_conversation\n",
    "print(df_cleaned[\"Toxic_conversation\"].value_counts())\n"
   ]
  },
  {
   "cell_type": "markdown",
   "id": "01b3e1cb-747f-41a7-9bb3-677c3fa684c1",
   "metadata": {},
   "source": [
    "Interpretation: 7205 conversations contain toxic replies, while 21613 do not.\n"
   ]
  },
  {
   "cell_type": "code",
   "execution_count": null,
   "id": "bb0f058f-5bea-42b1-ab5b-730faec01b26",
   "metadata": {},
   "outputs": [],
   "source": [
    "# Count of conversations with toxic replies.\n",
    "\n",
    "# Step 14: Histogram of Num_author_replies\n",
    "sns.histplot(df_cleaned[\"Num_author_replies\"], bins=30, kde=False)\n",
    "plt.title(\"Histogram of Author Replies\")\n",
    "plt.show()"
   ]
  },
  {
   "cell_type": "code",
   "execution_count": 52,
   "id": "0658edd5-37c5-47d4-b724-aa2e9d4b1a61",
   "metadata": {},
   "outputs": [
    {
     "name": "stderr",
     "output_type": "stream",
     "text": [
      "C:\\Users\\hari2\\anaconda3\\Lib\\site-packages\\seaborn\\_oldcore.py:1119: FutureWarning: use_inf_as_na option is deprecated and will be removed in a future version. Convert inf values to NaN before operating instead.\n",
      "  with pd.option_context('mode.use_inf_as_na', True):\n"
     ]
    },
    {
     "data": {
      "image/png": "[encoded data removed]",
      "text/plain": [
       "<Figure size 640x480 with 1 Axes>"
      ]
     },
     "metadata": {},
     "output_type": "display_data"
    }
   ],
   "source": [
    "# Step 15: Histogram of account Age\n",
    "sns.histplot(df_cleaned[\"Age\"], bins=30, kde=False)\n",
    "plt.title(\"Histogram of Account Age\")\n",
    "plt.show()"
   ]
  },
  {
   "cell_type": "markdown",
   "id": "96d17bd9-907b-4f4b-9e49-f89b190e0d4c",
   "metadata": {},
   "source": [
    "Interpretation: The majority of accounts are around 0 years old.\n"
   ]
  },
  {
   "cell_type": "code",
   "execution_count": 53,
   "id": "c2c5aec9-bae6-40db-a00d-071fe628a467",
   "metadata": {},
   "outputs": [
    {
     "name": "stdout",
     "output_type": "stream",
     "text": [
      "Toxic_conversation\n",
      "0     5.412483\n",
      "1    17.877307\n",
      "Name: Length, dtype: float64\n"
     ]
    }
   ],
   "source": [
    "# Step 16: Mean length of toxic vs non-toxic conversations\n",
    "print(df_cleaned.groupby(\"Toxic_conversation\")[\"Length\"].mean())"
   ]
  },
  {
   "cell_type": "code",
   "execution_count": 54,
   "id": "3612d0d4-0077-421a-80b3-dec34d0d8f56",
   "metadata": {},
   "outputs": [
    {
     "name": "stdout",
     "output_type": "stream",
     "text": [
      "Verified\n",
      "False      6022.879054\n",
      "True     572177.384670\n",
      "Name: Followers, dtype: float64\n"
     ]
    }
   ],
   "source": [
    "# Step 17: Mean followers by verified status\n",
    "print(df_cleaned.groupby(\"Verified\")[\"Followers\"].mean())"
   ]
  },
  {
   "cell_type": "code",
   "execution_count": 55,
   "id": "2260b1a7-f9cd-4c63-9661-e476440c2286",
   "metadata": {},
   "outputs": [
    {
     "data": {
      "image/png": "[encoded data removed]",
      "text/plain": [
       "<Figure size 640x480 with 1 Axes>"
      ]
     },
     "metadata": {},
     "output_type": "display_data"
    }
   ],
   "source": [
    "# Step 18: Mean tweets by account age\n",
    "mean_tweets_by_age = df_cleaned.groupby(\"Age\")[\"Num_tweets\"].mean().reset_index(name=\"mean_tweets\")\n",
    "sns.barplot(data=mean_tweets_by_age, x=\"Age\", y=\"mean_tweets\")\n",
    "plt.xticks(rotation=90)\n",
    "plt.title(\"Mean Tweets by Account Age\")\n",
    "plt.show()"
   ]
  },
  {
   "cell_type": "code",
   "execution_count": 56,
   "id": "b53aec3c-83d1-4d09-88e8-4c0f5883e9ac",
   "metadata": {},
   "outputs": [
    {
     "name": "stdout",
     "output_type": "stream",
     "text": [
      "Verified            False  True \n",
      "Toxic_conversation              \n",
      "0                   20802    811\n",
      "1                    6607    598\n"
     ]
    }
   ],
   "source": [
    "# Step 19: Crosstab of Toxic_conversation and Verified\n",
    "ct = pd.crosstab(df_cleaned[\"Toxic_conversation\"], df_cleaned[\"Verified\"])\n",
    "print(ct)"
   ]
  },
  {
   "cell_type": "code",
   "execution_count": 57,
   "id": "0859bc22-0db0-4fbc-8c3b-59b9bfe522c0",
   "metadata": {},
   "outputs": [
    {
     "name": "stdout",
     "output_type": "stream",
     "text": [
      "Chi2: 239.3148979065939, p-value: 5.547396807333776e-54\n"
     ]
    }
   ],
   "source": [
    "# Step 20: Chi-square test\n",
    "from scipy.stats import chi2_contingency\n",
    "\n",
    "chi2, p, dof, expected = chi2_contingency(ct)\n",
    "print(f\"Chi2: {chi2}, p-value: {p}\")"
   ]
  },
  {
   "cell_type": "markdown",
   "id": "a64be0d0-e1a1-4e8e-92a4-bf7c0e23e5d7",
   "metadata": {},
   "source": [
    "Interpretation:\n",
    "H₀ (Null Hypothesis):Toxicity of a conversation is independent of whether the user is verified or not.  \n",
    "H₁ (Alternative Hypothesis): Toxicity of a conversation is associated with verification status.\n",
    "\n",
    "The Chi-square test resulted in a χ² value of 239.31 with a p-value of 5.55 × 10⁻⁵⁴, which is much smaller than 0.05.  \n",
    "Therefore, we reject the null hypothesis.\n",
    "\n",
    "This suggests that there is a statistically significant relationship between verification status and whether a conversation contains toxic replies. In other words, being a verified user is not independent of the likelihood of being involved in a toxic conversation.\n",
    "\n",
    "\n"
   ]
  },
  {
   "cell_type": "code",
   "execution_count": 62,
   "id": "d71f4f14-7b48-46cb-9861-d020d9dbfb43",
   "metadata": {},
   "outputs": [
    {
     "data": {
      "text/html": [
       "<div>\n",
       "<style scoped>\n",
       "    .dataframe tbody tr th:only-of-type {\n",
       "        vertical-align: middle;\n",
       "    }\n",
       "\n",
       "    .dataframe tbody tr th {\n",
       "        vertical-align: top;\n",
       "    }\n",
       "\n",
       "    .dataframe thead th {\n",
       "        text-align: right;\n",
       "    }\n",
       "</style>\n",
       "<table border=\"1\" class=\"dataframe\">\n",
       "  <thead>\n",
       "    <tr style=\"text-align: right;\">\n",
       "      <th></th>\n",
       "      <th>Tweet</th>\n",
       "      <th>Followers</th>\n",
       "      <th>Friends</th>\n",
       "      <th>Num_tweets</th>\n",
       "      <th>Verified</th>\n",
       "      <th>Listed_count</th>\n",
       "      <th>Location</th>\n",
       "      <th>Age</th>\n",
       "      <th>Length</th>\n",
       "      <th>Num_users</th>\n",
       "      <th>Num_author_replies</th>\n",
       "      <th>Toxicity</th>\n",
       "      <th>Num_toxic_direct_replies</th>\n",
       "      <th>Num_toxic_nested_replies</th>\n",
       "      <th>Num_author_toxic_replies</th>\n",
       "      <th>Num_toxic_replies</th>\n",
       "      <th>Toxic</th>\n",
       "      <th>Total_toxic_replies</th>\n",
       "      <th>Toxic_conversation</th>\n",
       "    </tr>\n",
       "  </thead>\n",
       "  <tbody>\n",
       "    <tr>\n",
       "      <th>6</th>\n",
       "      <td>1.433960e+18</td>\n",
       "      <td>3467</td>\n",
       "      <td>196.0</td>\n",
       "      <td>10847</td>\n",
       "      <td>False</td>\n",
       "      <td>38</td>\n",
       "      <td>True</td>\n",
       "      <td>0</td>\n",
       "      <td>18</td>\n",
       "      <td>5</td>\n",
       "      <td>6</td>\n",
       "      <td>0</td>\n",
       "      <td>0</td>\n",
       "      <td>1</td>\n",
       "      <td>0</td>\n",
       "      <td>1</td>\n",
       "      <td>1</td>\n",
       "      <td>1</td>\n",
       "      <td>1</td>\n",
       "    </tr>\n",
       "    <tr>\n",
       "      <th>13</th>\n",
       "      <td>1.427330e+18</td>\n",
       "      <td>161</td>\n",
       "      <td>107.0</td>\n",
       "      <td>2781</td>\n",
       "      <td>False</td>\n",
       "      <td>0</td>\n",
       "      <td>False</td>\n",
       "      <td>2</td>\n",
       "      <td>2</td>\n",
       "      <td>2</td>\n",
       "      <td>0</td>\n",
       "      <td>0</td>\n",
       "      <td>1</td>\n",
       "      <td>0</td>\n",
       "      <td>0</td>\n",
       "      <td>1</td>\n",
       "      <td>1</td>\n",
       "      <td>1</td>\n",
       "      <td>1</td>\n",
       "    </tr>\n",
       "    <tr>\n",
       "      <th>15</th>\n",
       "      <td>1.431810e+18</td>\n",
       "      <td>150</td>\n",
       "      <td>203.0</td>\n",
       "      <td>2428</td>\n",
       "      <td>False</td>\n",
       "      <td>4</td>\n",
       "      <td>False</td>\n",
       "      <td>0</td>\n",
       "      <td>2</td>\n",
       "      <td>2</td>\n",
       "      <td>0</td>\n",
       "      <td>1</td>\n",
       "      <td>1</td>\n",
       "      <td>0</td>\n",
       "      <td>0</td>\n",
       "      <td>1</td>\n",
       "      <td>1</td>\n",
       "      <td>1</td>\n",
       "      <td>1</td>\n",
       "    </tr>\n",
       "    <tr>\n",
       "      <th>26</th>\n",
       "      <td>1.434940e+18</td>\n",
       "      <td>729</td>\n",
       "      <td>739.0</td>\n",
       "      <td>21546</td>\n",
       "      <td>False</td>\n",
       "      <td>1</td>\n",
       "      <td>True</td>\n",
       "      <td>9</td>\n",
       "      <td>3</td>\n",
       "      <td>2</td>\n",
       "      <td>1</td>\n",
       "      <td>0</td>\n",
       "      <td>1</td>\n",
       "      <td>0</td>\n",
       "      <td>0</td>\n",
       "      <td>1</td>\n",
       "      <td>1</td>\n",
       "      <td>1</td>\n",
       "      <td>1</td>\n",
       "    </tr>\n",
       "    <tr>\n",
       "      <th>33</th>\n",
       "      <td>1.437600e+18</td>\n",
       "      <td>304</td>\n",
       "      <td>625.0</td>\n",
       "      <td>465</td>\n",
       "      <td>False</td>\n",
       "      <td>0</td>\n",
       "      <td>True</td>\n",
       "      <td>0</td>\n",
       "      <td>7</td>\n",
       "      <td>4</td>\n",
       "      <td>1</td>\n",
       "      <td>1</td>\n",
       "      <td>1</td>\n",
       "      <td>0</td>\n",
       "      <td>0</td>\n",
       "      <td>1</td>\n",
       "      <td>1</td>\n",
       "      <td>1</td>\n",
       "      <td>1</td>\n",
       "    </tr>\n",
       "  </tbody>\n",
       "</table>\n",
       "</div>"
      ],
      "text/plain": [
       "           Tweet  Followers  Friends  Num_tweets  Verified  Listed_count  \\\n",
       "6   1.433960e+18       3467    196.0       10847     False            38   \n",
       "13  1.427330e+18        161    107.0        2781     False             0   \n",
       "15  1.431810e+18        150    203.0        2428     False             4   \n",
       "26  1.434940e+18        729    739.0       21546     False             1   \n",
       "33  1.437600e+18        304    625.0         465     False             0   \n",
       "\n",
       "    Location  Age  Length  Num_users  Num_author_replies  Toxicity  \\\n",
       "6       True    0      18          5                   6         0   \n",
       "13     False    2       2          2                   0         0   \n",
       "15     False    0       2          2                   0         1   \n",
       "26      True    9       3          2                   1         0   \n",
       "33      True    0       7          4                   1         1   \n",
       "\n",
       "    Num_toxic_direct_replies  Num_toxic_nested_replies  \\\n",
       "6                          0                         1   \n",
       "13                         1                         0   \n",
       "15                         1                         0   \n",
       "26                         1                         0   \n",
       "33                         1                         0   \n",
       "\n",
       "    Num_author_toxic_replies  Num_toxic_replies  Toxic  Total_toxic_replies  \\\n",
       "6                          0                  1      1                    1   \n",
       "13                         0                  1      1                    1   \n",
       "15                         0                  1      1                    1   \n",
       "26                         0                  1      1                    1   \n",
       "33                         0                  1      1                    1   \n",
       "\n",
       "    Toxic_conversation  \n",
       "6                    1  \n",
       "13                   1  \n",
       "15                   1  \n",
       "26                   1  \n",
       "33                   1  "
      ]
     },
     "execution_count": 62,
     "metadata": {},
     "output_type": "execute_result"
    }
   ],
   "source": [
    "# State H0 and H1, and whether we reject or fail to reject H0.\n",
    "\n",
    "# Step 21: Split data into toxic and non-toxic\n",
    "toxic_df = df_cleaned[df_cleaned[\"Toxic_conversation\"] == 1]\n",
    "non_toxic_df = df_cleaned[df_cleaned[\"Toxic_conversation\"] == 0]\n",
    "toxic_df.head()\n",
    "\n"
   ]
  },
  {
   "cell_type": "code",
   "execution_count": 63,
   "id": "ae78690d-5574-41ca-a30c-4305d701a2d1",
   "metadata": {},
   "outputs": [
    {
     "data": {
      "text/html": [
       "<div>\n",
       "<style scoped>\n",
       "    .dataframe tbody tr th:only-of-type {\n",
       "        vertical-align: middle;\n",
       "    }\n",
       "\n",
       "    .dataframe tbody tr th {\n",
       "        vertical-align: top;\n",
       "    }\n",
       "\n",
       "    .dataframe thead th {\n",
       "        text-align: right;\n",
       "    }\n",
       "</style>\n",
       "<table border=\"1\" class=\"dataframe\">\n",
       "  <thead>\n",
       "    <tr style=\"text-align: right;\">\n",
       "      <th></th>\n",
       "      <th>Tweet</th>\n",
       "      <th>Followers</th>\n",
       "      <th>Friends</th>\n",
       "      <th>Num_tweets</th>\n",
       "      <th>Verified</th>\n",
       "      <th>Listed_count</th>\n",
       "      <th>Location</th>\n",
       "      <th>Age</th>\n",
       "      <th>Length</th>\n",
       "      <th>Num_users</th>\n",
       "      <th>Num_author_replies</th>\n",
       "      <th>Toxicity</th>\n",
       "      <th>Num_toxic_direct_replies</th>\n",
       "      <th>Num_toxic_nested_replies</th>\n",
       "      <th>Num_author_toxic_replies</th>\n",
       "      <th>Num_toxic_replies</th>\n",
       "      <th>Toxic</th>\n",
       "      <th>Total_toxic_replies</th>\n",
       "      <th>Toxic_conversation</th>\n",
       "    </tr>\n",
       "  </thead>\n",
       "  <tbody>\n",
       "    <tr>\n",
       "      <th>0</th>\n",
       "      <td>1.441500e+18</td>\n",
       "      <td>1198</td>\n",
       "      <td>605.0</td>\n",
       "      <td>6166</td>\n",
       "      <td>False</td>\n",
       "      <td>1</td>\n",
       "      <td>True</td>\n",
       "      <td>7</td>\n",
       "      <td>6</td>\n",
       "      <td>4</td>\n",
       "      <td>2</td>\n",
       "      <td>0</td>\n",
       "      <td>0</td>\n",
       "      <td>0</td>\n",
       "      <td>0</td>\n",
       "      <td>0</td>\n",
       "      <td>0</td>\n",
       "      <td>0</td>\n",
       "      <td>0</td>\n",
       "    </tr>\n",
       "    <tr>\n",
       "      <th>1</th>\n",
       "      <td>1.431810e+18</td>\n",
       "      <td>608</td>\n",
       "      <td>1259.0</td>\n",
       "      <td>1811</td>\n",
       "      <td>False</td>\n",
       "      <td>5</td>\n",
       "      <td>True</td>\n",
       "      <td>2</td>\n",
       "      <td>2</td>\n",
       "      <td>2</td>\n",
       "      <td>0</td>\n",
       "      <td>0</td>\n",
       "      <td>0</td>\n",
       "      <td>0</td>\n",
       "      <td>0</td>\n",
       "      <td>0</td>\n",
       "      <td>0</td>\n",
       "      <td>0</td>\n",
       "      <td>0</td>\n",
       "    </tr>\n",
       "    <tr>\n",
       "      <th>2</th>\n",
       "      <td>1.426640e+18</td>\n",
       "      <td>173</td>\n",
       "      <td>167.0</td>\n",
       "      <td>4306</td>\n",
       "      <td>False</td>\n",
       "      <td>0</td>\n",
       "      <td>True</td>\n",
       "      <td>0</td>\n",
       "      <td>4</td>\n",
       "      <td>2</td>\n",
       "      <td>2</td>\n",
       "      <td>0</td>\n",
       "      <td>0</td>\n",
       "      <td>0</td>\n",
       "      <td>0</td>\n",
       "      <td>0</td>\n",
       "      <td>0</td>\n",
       "      <td>0</td>\n",
       "      <td>0</td>\n",
       "    </tr>\n",
       "    <tr>\n",
       "      <th>3</th>\n",
       "      <td>1.431810e+18</td>\n",
       "      <td>2540</td>\n",
       "      <td>222.0</td>\n",
       "      <td>6008</td>\n",
       "      <td>False</td>\n",
       "      <td>0</td>\n",
       "      <td>True</td>\n",
       "      <td>9</td>\n",
       "      <td>2</td>\n",
       "      <td>2</td>\n",
       "      <td>0</td>\n",
       "      <td>0</td>\n",
       "      <td>0</td>\n",
       "      <td>0</td>\n",
       "      <td>0</td>\n",
       "      <td>0</td>\n",
       "      <td>0</td>\n",
       "      <td>0</td>\n",
       "      <td>0</td>\n",
       "    </tr>\n",
       "    <tr>\n",
       "      <th>4</th>\n",
       "      <td>1.432860e+18</td>\n",
       "      <td>4439</td>\n",
       "      <td>11.0</td>\n",
       "      <td>9985</td>\n",
       "      <td>False</td>\n",
       "      <td>55</td>\n",
       "      <td>True</td>\n",
       "      <td>2</td>\n",
       "      <td>4</td>\n",
       "      <td>3</td>\n",
       "      <td>1</td>\n",
       "      <td>0</td>\n",
       "      <td>0</td>\n",
       "      <td>0</td>\n",
       "      <td>0</td>\n",
       "      <td>0</td>\n",
       "      <td>0</td>\n",
       "      <td>0</td>\n",
       "      <td>0</td>\n",
       "    </tr>\n",
       "  </tbody>\n",
       "</table>\n",
       "</div>"
      ],
      "text/plain": [
       "          Tweet  Followers  Friends  Num_tweets  Verified  Listed_count  \\\n",
       "0  1.441500e+18       1198    605.0        6166     False             1   \n",
       "1  1.431810e+18        608   1259.0        1811     False             5   \n",
       "2  1.426640e+18        173    167.0        4306     False             0   \n",
       "3  1.431810e+18       2540    222.0        6008     False             0   \n",
       "4  1.432860e+18       4439     11.0        9985     False            55   \n",
       "\n",
       "   Location  Age  Length  Num_users  Num_author_replies  Toxicity  \\\n",
       "0      True    7       6          4                   2         0   \n",
       "1      True    2       2          2                   0         0   \n",
       "2      True    0       4          2                   2         0   \n",
       "3      True    9       2          2                   0         0   \n",
       "4      True    2       4          3                   1         0   \n",
       "\n",
       "   Num_toxic_direct_replies  Num_toxic_nested_replies  \\\n",
       "0                         0                         0   \n",
       "1                         0                         0   \n",
       "2                         0                         0   \n",
       "3                         0                         0   \n",
       "4                         0                         0   \n",
       "\n",
       "   Num_author_toxic_replies  Num_toxic_replies  Toxic  Total_toxic_replies  \\\n",
       "0                         0                  0      0                    0   \n",
       "1                         0                  0      0                    0   \n",
       "2                         0                  0      0                    0   \n",
       "3                         0                  0      0                    0   \n",
       "4                         0                  0      0                    0   \n",
       "\n",
       "   Toxic_conversation  \n",
       "0                   0  \n",
       "1                   0  \n",
       "2                   0  \n",
       "3                   0  \n",
       "4                   0  "
      ]
     },
     "execution_count": 63,
     "metadata": {},
     "output_type": "execute_result"
    }
   ],
   "source": [
    "non_toxic_df.head() #step21 continous"
   ]
  },
  {
   "cell_type": "code",
   "execution_count": 67,
   "id": "158f424f-d9fd-493c-b9ad-5217e59cb82a",
   "metadata": {},
   "outputs": [
    {
     "name": "stderr",
     "output_type": "stream",
     "text": [
      "C:\\Users\\hari2\\anaconda3\\Lib\\site-packages\\seaborn\\_oldcore.py:1119: FutureWarning: use_inf_as_na option is deprecated and will be removed in a future version. Convert inf values to NaN before operating instead.\n",
      "  with pd.option_context('mode.use_inf_as_na', True):\n"
     ]
    },
    {
     "data": {
      "image/png": "[encoded data removed]",
      "text/plain": [
       "<Figure size 640x480 with 1 Axes>"
      ]
     },
     "metadata": {},
     "output_type": "display_data"
    }
   ],
   "source": [
    "# Step 22: Histogram of toxic conversation lengths\n",
    "sns.histplot(toxic_df[\"Length\"], bins=30)\n",
    "plt.title(\"Toxic Conversation Lengths\")\n",
    "plt.show()\n"
   ]
  },
  {
   "cell_type": "code",
   "execution_count": 68,
   "id": "3f52bb34-6ad0-4a3c-b946-00e54265cbab",
   "metadata": {},
   "outputs": [
    {
     "name": "stderr",
     "output_type": "stream",
     "text": [
      "C:\\Users\\hari2\\anaconda3\\Lib\\site-packages\\seaborn\\_oldcore.py:1119: FutureWarning: use_inf_as_na option is deprecated and will be removed in a future version. Convert inf values to NaN before operating instead.\n",
      "  with pd.option_context('mode.use_inf_as_na', True):\n"
     ]
    },
    {
     "data": {
      "image/png": "[encoded data removed]",
      "text/plain": [
       "<Figure size 640x480 with 1 Axes>"
      ]
     },
     "metadata": {},
     "output_type": "display_data"
    }
   ],
   "source": [
    "# Step 23: Histogram of non-toxic conversation lengths\n",
    "sns.histplot(non_toxic_df[\"Length\"], bins=30)\n",
    "plt.title(\"Non-Toxic Conversation Lengths\")\n",
    "plt.show()"
   ]
  },
  {
   "cell_type": "code",
   "execution_count": 69,
   "id": "603165ab-a7f0-4ad5-8412-6e563c65932c",
   "metadata": {},
   "outputs": [
    {
     "name": "stdout",
     "output_type": "stream",
     "text": [
      "Mann-Whitney U-stat: 113183967.0, p-value: 0.0\n"
     ]
    }
   ],
   "source": [
    "# Step 24: Mann-Whitney test (length)\n",
    "from scipy.stats import mannwhitneyu\n",
    "\n",
    "u_stat, p_val = mannwhitneyu(toxic_df[\"Length\"], non_toxic_df[\"Length\"])\n",
    "print(f\"Mann-Whitney U-stat: {u_stat}, p-value: {p_val}\")\n"
   ]
  },
  {
   "cell_type": "markdown",
   "id": "cc8b2a75-ea55-4c3a-acdb-6b536df7def1",
   "metadata": {},
   "source": [
    "Interpretation:\n",
    "**H₀**: There is no difference in conversation lengths between toxic and non-toxic conversations.  \n",
    "**H₁**: There is a significant difference in conversation lengths between toxic and non-toxic conversations.\n",
    "The p-value is \" 0.0 \", which is far less than 0.05. Therefore, we  \" reject \" the null hypothesis and conclude that there is a statistically significant difference in conversation lengths between toxic and non-toxic conversations.\n",
    "\n"
   ]
  },
  {
   "cell_type": "code",
   "execution_count": 70,
   "id": "223165e9-155d-417e-a889-8e86556a6311",
   "metadata": {},
   "outputs": [
    {
     "name": "stderr",
     "output_type": "stream",
     "text": [
      "C:\\Users\\hari2\\anaconda3\\Lib\\site-packages\\seaborn\\_oldcore.py:1119: FutureWarning: use_inf_as_na option is deprecated and will be removed in a future version. Convert inf values to NaN before operating instead.\n",
      "  with pd.option_context('mode.use_inf_as_na', True):\n"
     ]
    },
    {
     "data": {
      "image/png": "[encoded data removed]",
      "text/plain": [
       "<Figure size 640x480 with 1 Axes>"
      ]
     },
     "metadata": {},
     "output_type": "display_data"
    }
   ],
   "source": [
    "# Step 25: Histogram of unique users (toxic)\n",
    "sns.histplot(toxic_df[\"Num_users\"], bins=30)\n",
    "plt.title(\"Unique Users in Toxic Conversations\")\n",
    "plt.show()"
   ]
  },
  {
   "cell_type": "code",
   "execution_count": 71,
   "id": "c5f54d42-1ab3-406c-bd36-f1c8f7d10ab3",
   "metadata": {},
   "outputs": [
    {
     "name": "stderr",
     "output_type": "stream",
     "text": [
      "C:\\Users\\hari2\\anaconda3\\Lib\\site-packages\\seaborn\\_oldcore.py:1119: FutureWarning: use_inf_as_na option is deprecated and will be removed in a future version. Convert inf values to NaN before operating instead.\n",
      "  with pd.option_context('mode.use_inf_as_na', True):\n"
     ]
    },
    {
     "data": {
      "image/png": "[encoded data removed]",
      "text/plain": [
       "<Figure size 640x480 with 1 Axes>"
      ]
     },
     "metadata": {},
     "output_type": "display_data"
    }
   ],
   "source": [
    "# Step 26: Histogram of unique users (non-toxic)\n",
    "sns.histplot(non_toxic_df[\"Num_users\"], bins=30)\n",
    "plt.title(\"Unique Users in Non-Toxic Conversations\")\n",
    "plt.show()"
   ]
  },
  {
   "cell_type": "code",
   "execution_count": 72,
   "id": "9f96e286-7df3-48f5-aba2-968239dd16fd",
   "metadata": {},
   "outputs": [
    {
     "name": "stdout",
     "output_type": "stream",
     "text": [
      "Mann-Whitney U-stat: 108388312.5, p-value: 0.0\n"
     ]
    }
   ],
   "source": [
    "# Step 27: Mann-Whitney test (users)\n",
    "u_stat_users, p_val_users = mannwhitneyu(toxic_df[\"Num_users\"], non_toxic_df[\"Num_users\"])\n",
    "print(f\"Mann-Whitney U-stat: {u_stat_users}, p-value: {p_val_users}\")\n"
   ]
  },
  {
   "cell_type": "markdown",
   "id": "9a607659-f234-4d48-9fc1-7c4a87fb3fd1",
   "metadata": {},
   "source": [
    "Interpretation:\n",
    "**H₀**: There is no difference in the number of unique users between toxic and non-toxic conversations.  \n",
    "**H₁**: There is a significant difference in the number of unique users between toxic and non-toxic conversations.\n",
    "\n",
    "The p-value is \" 0.0 \", so we \" reject the null hypothesis \". This indicates a significant difference in the number of users involved in toxic vs. non-toxic conversations.\n",
    "\n"
   ]
  },
  {
   "cell_type": "code",
   "execution_count": 73,
   "id": "900dc788-be25-4619-97b4-c834ca0c0f7a",
   "metadata": {},
   "outputs": [
    {
     "name": "stdout",
     "output_type": "stream",
     "text": [
      "T-test Length: t=32.1487580990876, p=7.98320672131386e-223\n",
      "T-test Users: t=28.717472597708117, p=7.660097368029594e-179\n"
     ]
    }
   ],
   "source": [
    "# Step 28: T-tests\n",
    "from scipy.stats import ttest_ind\n",
    "\n",
    "t_stat_len, p_t_len = ttest_ind(toxic_df[\"Length\"], non_toxic_df[\"Length\"])\n",
    "t_stat_users, p_t_users = ttest_ind(toxic_df[\"Num_users\"], non_toxic_df[\"Num_users\"])\n",
    "\n",
    "print(f\"T-test Length: t={t_stat_len}, p={p_t_len}\")\n",
    "print(f\"T-test Users: t={t_stat_users}, p={p_t_users}\")\n"
   ]
  },
  {
   "cell_type": "markdown",
   "id": "736c7a27-8e3b-4360-835c-54696e019d5f",
   "metadata": {},
   "source": [
    "Interpretation:\n",
    "The t-tests for both conversation length and number of unique users also show extremely small p-values (far below 0.05), confirming that there are statistically significant differences between toxic and non-toxic conversations in both dimensions.\n",
    "\n",
    "However, because the distributions of conversation length and number of users are not normal (as seen in earlier histograms and boxplots), the Mann-Whitney U test is more appropriate for these comparisons. It does not assume normality and is more robust for skewed data.\n",
    "\n"
   ]
  },
  {
   "cell_type": "code",
   "execution_count": null,
   "id": "a56b818c-c2cc-41fa-a004-dcf346856a6d",
   "metadata": {},
   "outputs": [],
   "source": []
  }
 ],
 "metadata": {
  "kernelspec": {
   "display_name": "Python 3 (ipykernel)",
   "language": "python",
   "name": "python3"
  },
  "language_info": {
   "codemirror_mode": {
    "name": "ipython",
    "version": 3
   },
   "file_extension": ".py",
   "mimetype": "text/x-python",
   "name": "python",
   "nbconvert_exporter": "python",
   "pygments_lexer": "ipython3",
   "version": "3.11.7"
  }
 },
 "nbformat": 4,
 "nbformat_minor": 5
}
